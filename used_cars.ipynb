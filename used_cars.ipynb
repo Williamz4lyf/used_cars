{
 "cells": [
  {
   "cell_type": "markdown",
   "source": [
    "# Analysis of German Used Car Sales from eBay Classifieds\n",
    "The aim of this project is to clean the data and analyze the included used car listings.\n",
    "\n",
    "The data dictionary provided with data is as follows:\n",
    "\n",
    "1. dateCrawled - When this ad was first crawled. All field-values are taken from this date.\n",
    "2. name - Name of the car.\n",
    "3. seller - Whether the seller is private or a dealer.\n",
    "4. offerType - The type of listing\n",
    "5. price - The price on the ad to sell the car.\n",
    "6. abtest - Whether the listing is included in an A/B test.\n",
    "7. vehicleType - The vehicle Type.\n",
    "8. yearOfRegistration - The year in which the car was first registered.\n",
    "9. gearbox - The transmission type.\n",
    "10. powerPS - The power of the car in PS (horse power).\n",
    "11. model - The car model name.\n",
    "12. kilometer - How many kilometers the car has driven.\n",
    "13. monthOfRegistration - The month in which the car was first registered.\n",
    "14. fuelType - What type of fuel the car uses.\n",
    "15. brand - The brand of the car.\n",
    "16. notRepairedDamage - If the car has a damage which is not yet repaired.\n",
    "17. dateCreated - The date on which the eBay listing was created.\n",
    "18. nrOfPictures - The number of pictures in the ad.\n",
    "19. postalCode - The postal code for the location of the vehicle.\n",
    "20. lastSeenOnline - When the crawler saw this ad last online."
   ],
   "metadata": {
    "collapsed": false
   },
   "id": "3989d09ad9ee9803"
  },
  {
   "cell_type": "markdown",
   "source": [
    "### Load Workspace"
   ],
   "metadata": {
    "collapsed": false
   },
   "id": "de255a949832747d"
  },
  {
   "cell_type": "code",
   "execution_count": 1,
   "id": "initial_id",
   "metadata": {
    "collapsed": true,
    "ExecuteTime": {
     "end_time": "2023-10-27T09:16:36.941633Z",
     "start_time": "2023-10-27T09:16:34.538328Z"
    }
   },
   "outputs": [],
   "source": [
    "import re\n",
    "import datetime as dt\n",
    "\n",
    "import pandas as pd\n",
    "import numpy as np\n",
    "import matplotlib.pyplot as plt\n",
    "import seaborn as sns"
   ]
  },
  {
   "cell_type": "markdown",
   "source": [
    "### Load the Data"
   ],
   "metadata": {
    "collapsed": false
   },
   "id": "3650308206831f3d"
  },
  {
   "cell_type": "code",
   "execution_count": 2,
   "outputs": [
    {
     "data": {
      "text/plain": "           dateCrawled                                               name  \\\n0  2016-03-26 17:47:46                   Peugeot_807_160_NAVTECH_ON_BOARD   \n1  2016-04-04 13:38:56         BMW_740i_4_4_Liter_HAMANN_UMBAU_Mega_Optik   \n2  2016-03-26 18:57:24                         Volkswagen_Golf_1.6_United   \n3  2016-03-12 16:58:10  Smart_smart_fortwo_coupe_softouch/F1/Klima/Pan...   \n4  2016-04-01 14:38:50  Ford_Focus_1_6_Benzin_TÜV_neu_ist_sehr_gepfleg...   \n\n   seller offerType   price   abtest vehicleType  yearOfRegistration  \\\n0  privat   Angebot  $5,000  control         bus                2004   \n1  privat   Angebot  $8,500  control   limousine                1997   \n2  privat   Angebot  $8,990     test   limousine                2009   \n3  privat   Angebot  $4,350  control  kleinwagen                2007   \n4  privat   Angebot  $1,350     test       kombi                2003   \n\n     gearbox  powerPS   model   odometer  monthOfRegistration fuelType  \\\n0    manuell      158  andere  150,000km                    3      lpg   \n1  automatik      286     7er  150,000km                    6   benzin   \n2    manuell      102    golf   70,000km                    7   benzin   \n3  automatik       71  fortwo   70,000km                    6   benzin   \n4    manuell        0   focus  150,000km                    7   benzin   \n\n        brand notRepairedDamage          dateCreated  nrOfPictures  \\\n0     peugeot              nein  2016-03-26 00:00:00             0   \n1         bmw              nein  2016-04-04 00:00:00             0   \n2  volkswagen              nein  2016-03-26 00:00:00             0   \n3       smart              nein  2016-03-12 00:00:00             0   \n4        ford              nein  2016-04-01 00:00:00             0   \n\n   postalCode             lastSeen  \n0       79588  2016-04-06 06:45:54  \n1       71034  2016-04-06 14:45:08  \n2       35394  2016-04-06 20:15:37  \n3       33729  2016-03-15 03:16:28  \n4       39218  2016-04-01 14:38:50  ",
      "text/html": "<div>\n<style scoped>\n    .dataframe tbody tr th:only-of-type {\n        vertical-align: middle;\n    }\n\n    .dataframe tbody tr th {\n        vertical-align: top;\n    }\n\n    .dataframe thead th {\n        text-align: right;\n    }\n</style>\n<table border=\"1\" class=\"dataframe\">\n  <thead>\n    <tr style=\"text-align: right;\">\n      <th></th>\n      <th>dateCrawled</th>\n      <th>name</th>\n      <th>seller</th>\n      <th>offerType</th>\n      <th>price</th>\n      <th>abtest</th>\n      <th>vehicleType</th>\n      <th>yearOfRegistration</th>\n      <th>gearbox</th>\n      <th>powerPS</th>\n      <th>model</th>\n      <th>odometer</th>\n      <th>monthOfRegistration</th>\n      <th>fuelType</th>\n      <th>brand</th>\n      <th>notRepairedDamage</th>\n      <th>dateCreated</th>\n      <th>nrOfPictures</th>\n      <th>postalCode</th>\n      <th>lastSeen</th>\n    </tr>\n  </thead>\n  <tbody>\n    <tr>\n      <th>0</th>\n      <td>2016-03-26 17:47:46</td>\n      <td>Peugeot_807_160_NAVTECH_ON_BOARD</td>\n      <td>privat</td>\n      <td>Angebot</td>\n      <td>$5,000</td>\n      <td>control</td>\n      <td>bus</td>\n      <td>2004</td>\n      <td>manuell</td>\n      <td>158</td>\n      <td>andere</td>\n      <td>150,000km</td>\n      <td>3</td>\n      <td>lpg</td>\n      <td>peugeot</td>\n      <td>nein</td>\n      <td>2016-03-26 00:00:00</td>\n      <td>0</td>\n      <td>79588</td>\n      <td>2016-04-06 06:45:54</td>\n    </tr>\n    <tr>\n      <th>1</th>\n      <td>2016-04-04 13:38:56</td>\n      <td>BMW_740i_4_4_Liter_HAMANN_UMBAU_Mega_Optik</td>\n      <td>privat</td>\n      <td>Angebot</td>\n      <td>$8,500</td>\n      <td>control</td>\n      <td>limousine</td>\n      <td>1997</td>\n      <td>automatik</td>\n      <td>286</td>\n      <td>7er</td>\n      <td>150,000km</td>\n      <td>6</td>\n      <td>benzin</td>\n      <td>bmw</td>\n      <td>nein</td>\n      <td>2016-04-04 00:00:00</td>\n      <td>0</td>\n      <td>71034</td>\n      <td>2016-04-06 14:45:08</td>\n    </tr>\n    <tr>\n      <th>2</th>\n      <td>2016-03-26 18:57:24</td>\n      <td>Volkswagen_Golf_1.6_United</td>\n      <td>privat</td>\n      <td>Angebot</td>\n      <td>$8,990</td>\n      <td>test</td>\n      <td>limousine</td>\n      <td>2009</td>\n      <td>manuell</td>\n      <td>102</td>\n      <td>golf</td>\n      <td>70,000km</td>\n      <td>7</td>\n      <td>benzin</td>\n      <td>volkswagen</td>\n      <td>nein</td>\n      <td>2016-03-26 00:00:00</td>\n      <td>0</td>\n      <td>35394</td>\n      <td>2016-04-06 20:15:37</td>\n    </tr>\n    <tr>\n      <th>3</th>\n      <td>2016-03-12 16:58:10</td>\n      <td>Smart_smart_fortwo_coupe_softouch/F1/Klima/Pan...</td>\n      <td>privat</td>\n      <td>Angebot</td>\n      <td>$4,350</td>\n      <td>control</td>\n      <td>kleinwagen</td>\n      <td>2007</td>\n      <td>automatik</td>\n      <td>71</td>\n      <td>fortwo</td>\n      <td>70,000km</td>\n      <td>6</td>\n      <td>benzin</td>\n      <td>smart</td>\n      <td>nein</td>\n      <td>2016-03-12 00:00:00</td>\n      <td>0</td>\n      <td>33729</td>\n      <td>2016-03-15 03:16:28</td>\n    </tr>\n    <tr>\n      <th>4</th>\n      <td>2016-04-01 14:38:50</td>\n      <td>Ford_Focus_1_6_Benzin_TÜV_neu_ist_sehr_gepfleg...</td>\n      <td>privat</td>\n      <td>Angebot</td>\n      <td>$1,350</td>\n      <td>test</td>\n      <td>kombi</td>\n      <td>2003</td>\n      <td>manuell</td>\n      <td>0</td>\n      <td>focus</td>\n      <td>150,000km</td>\n      <td>7</td>\n      <td>benzin</td>\n      <td>ford</td>\n      <td>nein</td>\n      <td>2016-04-01 00:00:00</td>\n      <td>0</td>\n      <td>39218</td>\n      <td>2016-04-01 14:38:50</td>\n    </tr>\n  </tbody>\n</table>\n</div>"
     },
     "execution_count": 2,
     "metadata": {},
     "output_type": "execute_result"
    }
   ],
   "source": [
    "df = pd.read_csv('autos.csv', encoding='latin')\n",
    "df.head()"
   ],
   "metadata": {
    "collapsed": false,
    "ExecuteTime": {
     "end_time": "2023-10-27T09:16:36.997025Z",
     "start_time": "2023-10-27T09:16:34.557642Z"
    }
   },
   "id": "189b0226fc861590"
  },
  {
   "cell_type": "code",
   "execution_count": 3,
   "outputs": [
    {
     "name": "stdout",
     "output_type": "stream",
     "text": [
      "<class 'pandas.core.frame.DataFrame'>\n",
      "RangeIndex: 50000 entries, 0 to 49999\n",
      "Data columns (total 20 columns):\n",
      " #   Column               Non-Null Count  Dtype \n",
      "---  ------               --------------  ----- \n",
      " 0   dateCrawled          50000 non-null  object\n",
      " 1   name                 50000 non-null  object\n",
      " 2   seller               50000 non-null  object\n",
      " 3   offerType            50000 non-null  object\n",
      " 4   price                50000 non-null  object\n",
      " 5   abtest               50000 non-null  object\n",
      " 6   vehicleType          44905 non-null  object\n",
      " 7   yearOfRegistration   50000 non-null  int64 \n",
      " 8   gearbox              47320 non-null  object\n",
      " 9   powerPS              50000 non-null  int64 \n",
      " 10  model                47242 non-null  object\n",
      " 11  odometer             50000 non-null  object\n",
      " 12  monthOfRegistration  50000 non-null  int64 \n",
      " 13  fuelType             45518 non-null  object\n",
      " 14  brand                50000 non-null  object\n",
      " 15  notRepairedDamage    40171 non-null  object\n",
      " 16  dateCreated          50000 non-null  object\n",
      " 17  nrOfPictures         50000 non-null  int64 \n",
      " 18  postalCode           50000 non-null  int64 \n",
      " 19  lastSeen             50000 non-null  object\n",
      "dtypes: int64(5), object(15)\n",
      "memory usage: 7.6+ MB\n"
     ]
    }
   ],
   "source": [
    "df.info()"
   ],
   "metadata": {
    "collapsed": false,
    "ExecuteTime": {
     "end_time": "2023-10-27T09:16:37.643499Z",
     "start_time": "2023-10-27T09:16:35.006744Z"
    }
   },
   "id": "a82e5a7717286ce4"
  },
  {
   "cell_type": "markdown",
   "source": [
    "### Data Cleaning"
   ],
   "metadata": {
    "collapsed": false
   },
   "id": "92a0196dfdc769ed"
  },
  {
   "cell_type": "markdown",
   "source": [
    "**Rename Columns**"
   ],
   "metadata": {
    "collapsed": false
   },
   "id": "501952c50110d175"
  },
  {
   "cell_type": "code",
   "execution_count": 4,
   "outputs": [
    {
     "data": {
      "text/plain": "          date_crawled                                               name  \\\n0  2016-03-26 17:47:46                   Peugeot_807_160_NAVTECH_ON_BOARD   \n1  2016-04-04 13:38:56         BMW_740i_4_4_Liter_HAMANN_UMBAU_Mega_Optik   \n2  2016-03-26 18:57:24                         Volkswagen_Golf_1.6_United   \n3  2016-03-12 16:58:10  Smart_smart_fortwo_coupe_softouch/F1/Klima/Pan...   \n4  2016-04-01 14:38:50  Ford_Focus_1_6_Benzin_TÜV_neu_ist_sehr_gepfleg...   \n\n   seller offer_type price_usd   abtest vehicle_type  registration_year  \\\n0  privat    Angebot    $5,000  control          bus               2004   \n1  privat    Angebot    $8,500  control    limousine               1997   \n2  privat    Angebot    $8,990     test    limousine               2009   \n3  privat    Angebot    $4,350  control   kleinwagen               2007   \n4  privat    Angebot    $1,350     test        kombi               2003   \n\n     gearbox  power_ps   model odometer_km  registration_month fuel_type  \\\n0    manuell       158  andere   150,000km                   3       lpg   \n1  automatik       286     7er   150,000km                   6    benzin   \n2    manuell       102    golf    70,000km                   7    benzin   \n3  automatik        71  fortwo    70,000km                   6    benzin   \n4    manuell         0   focus   150,000km                   7    benzin   \n\n        brand unrepaired_damage         date_created  num_of_pictures  \\\n0     peugeot              nein  2016-03-26 00:00:00                0   \n1         bmw              nein  2016-04-04 00:00:00                0   \n2  volkswagen              nein  2016-03-26 00:00:00                0   \n3       smart              nein  2016-03-12 00:00:00                0   \n4        ford              nein  2016-04-01 00:00:00                0   \n\n   postal_code            last_seen  \n0        79588  2016-04-06 06:45:54  \n1        71034  2016-04-06 14:45:08  \n2        35394  2016-04-06 20:15:37  \n3        33729  2016-03-15 03:16:28  \n4        39218  2016-04-01 14:38:50  ",
      "text/html": "<div>\n<style scoped>\n    .dataframe tbody tr th:only-of-type {\n        vertical-align: middle;\n    }\n\n    .dataframe tbody tr th {\n        vertical-align: top;\n    }\n\n    .dataframe thead th {\n        text-align: right;\n    }\n</style>\n<table border=\"1\" class=\"dataframe\">\n  <thead>\n    <tr style=\"text-align: right;\">\n      <th></th>\n      <th>date_crawled</th>\n      <th>name</th>\n      <th>seller</th>\n      <th>offer_type</th>\n      <th>price_usd</th>\n      <th>abtest</th>\n      <th>vehicle_type</th>\n      <th>registration_year</th>\n      <th>gearbox</th>\n      <th>power_ps</th>\n      <th>model</th>\n      <th>odometer_km</th>\n      <th>registration_month</th>\n      <th>fuel_type</th>\n      <th>brand</th>\n      <th>unrepaired_damage</th>\n      <th>date_created</th>\n      <th>num_of_pictures</th>\n      <th>postal_code</th>\n      <th>last_seen</th>\n    </tr>\n  </thead>\n  <tbody>\n    <tr>\n      <th>0</th>\n      <td>2016-03-26 17:47:46</td>\n      <td>Peugeot_807_160_NAVTECH_ON_BOARD</td>\n      <td>privat</td>\n      <td>Angebot</td>\n      <td>$5,000</td>\n      <td>control</td>\n      <td>bus</td>\n      <td>2004</td>\n      <td>manuell</td>\n      <td>158</td>\n      <td>andere</td>\n      <td>150,000km</td>\n      <td>3</td>\n      <td>lpg</td>\n      <td>peugeot</td>\n      <td>nein</td>\n      <td>2016-03-26 00:00:00</td>\n      <td>0</td>\n      <td>79588</td>\n      <td>2016-04-06 06:45:54</td>\n    </tr>\n    <tr>\n      <th>1</th>\n      <td>2016-04-04 13:38:56</td>\n      <td>BMW_740i_4_4_Liter_HAMANN_UMBAU_Mega_Optik</td>\n      <td>privat</td>\n      <td>Angebot</td>\n      <td>$8,500</td>\n      <td>control</td>\n      <td>limousine</td>\n      <td>1997</td>\n      <td>automatik</td>\n      <td>286</td>\n      <td>7er</td>\n      <td>150,000km</td>\n      <td>6</td>\n      <td>benzin</td>\n      <td>bmw</td>\n      <td>nein</td>\n      <td>2016-04-04 00:00:00</td>\n      <td>0</td>\n      <td>71034</td>\n      <td>2016-04-06 14:45:08</td>\n    </tr>\n    <tr>\n      <th>2</th>\n      <td>2016-03-26 18:57:24</td>\n      <td>Volkswagen_Golf_1.6_United</td>\n      <td>privat</td>\n      <td>Angebot</td>\n      <td>$8,990</td>\n      <td>test</td>\n      <td>limousine</td>\n      <td>2009</td>\n      <td>manuell</td>\n      <td>102</td>\n      <td>golf</td>\n      <td>70,000km</td>\n      <td>7</td>\n      <td>benzin</td>\n      <td>volkswagen</td>\n      <td>nein</td>\n      <td>2016-03-26 00:00:00</td>\n      <td>0</td>\n      <td>35394</td>\n      <td>2016-04-06 20:15:37</td>\n    </tr>\n    <tr>\n      <th>3</th>\n      <td>2016-03-12 16:58:10</td>\n      <td>Smart_smart_fortwo_coupe_softouch/F1/Klima/Pan...</td>\n      <td>privat</td>\n      <td>Angebot</td>\n      <td>$4,350</td>\n      <td>control</td>\n      <td>kleinwagen</td>\n      <td>2007</td>\n      <td>automatik</td>\n      <td>71</td>\n      <td>fortwo</td>\n      <td>70,000km</td>\n      <td>6</td>\n      <td>benzin</td>\n      <td>smart</td>\n      <td>nein</td>\n      <td>2016-03-12 00:00:00</td>\n      <td>0</td>\n      <td>33729</td>\n      <td>2016-03-15 03:16:28</td>\n    </tr>\n    <tr>\n      <th>4</th>\n      <td>2016-04-01 14:38:50</td>\n      <td>Ford_Focus_1_6_Benzin_TÜV_neu_ist_sehr_gepfleg...</td>\n      <td>privat</td>\n      <td>Angebot</td>\n      <td>$1,350</td>\n      <td>test</td>\n      <td>kombi</td>\n      <td>2003</td>\n      <td>manuell</td>\n      <td>0</td>\n      <td>focus</td>\n      <td>150,000km</td>\n      <td>7</td>\n      <td>benzin</td>\n      <td>ford</td>\n      <td>nein</td>\n      <td>2016-04-01 00:00:00</td>\n      <td>0</td>\n      <td>39218</td>\n      <td>2016-04-01 14:38:50</td>\n    </tr>\n  </tbody>\n</table>\n</div>"
     },
     "execution_count": 4,
     "metadata": {},
     "output_type": "execute_result"
    }
   ],
   "source": [
    "new_columns = {\n",
    "    'dateCrawled':'date_crawled',  \n",
    "    'offerType':'offer_type', \n",
    "    'price':'price_usd',\n",
    "    'vehicleType':'vehicle_type', \n",
    "    'yearOfRegistration':'registration_year', \n",
    "    'powerPS':'power_ps', \n",
    "    'odometer':'odometer_km',\n",
    "    'monthOfRegistration':'registration_month', \n",
    "    'fuelType':'fuel_type', \n",
    "    'notRepairedDamage':'unrepaired_damage', \n",
    "    'dateCreated':'date_created', \n",
    "    'nrOfPictures':'num_of_pictures', \n",
    "    'postalCode':'postal_code', \n",
    "    'lastSeen':'last_seen'\n",
    "}\n",
    "\n",
    "df = df.rename(columns=new_columns)\n",
    "df.head()"
   ],
   "metadata": {
    "collapsed": false,
    "ExecuteTime": {
     "end_time": "2023-10-27T09:16:37.662606Z",
     "start_time": "2023-10-27T09:16:35.230581Z"
    }
   },
   "id": "2247031113ebe3c0"
  },
  {
   "cell_type": "code",
   "execution_count": 5,
   "outputs": [
    {
     "data": {
      "text/plain": "date_crawled          object\nname                  object\nseller                object\noffer_type            object\nprice_usd             object\nabtest                object\nvehicle_type          object\nregistration_year      int64\ngearbox               object\npower_ps               int64\nmodel                 object\nodometer_km           object\nregistration_month     int64\nfuel_type             object\nbrand                 object\nunrepaired_damage     object\ndate_created          object\nnum_of_pictures        int64\npostal_code            int64\nlast_seen             object\ndtype: object"
     },
     "execution_count": 5,
     "metadata": {},
     "output_type": "execute_result"
    }
   ],
   "source": [
    "df.dtypes"
   ],
   "metadata": {
    "collapsed": false,
    "ExecuteTime": {
     "end_time": "2023-10-27T09:16:37.664899Z",
     "start_time": "2023-10-27T09:16:35.237656Z"
    }
   },
   "id": "cec8e39633f7a851"
  },
  {
   "cell_type": "markdown",
   "source": [
    "**Clean Values**"
   ],
   "metadata": {
    "collapsed": false
   },
   "id": "fe3e093eb67e9b6f"
  },
  {
   "cell_type": "code",
   "execution_count": 6,
   "outputs": [
    {
     "data": {
      "text/plain": "Index(['date_crawled', 'name', 'seller', 'offer_type', 'price_usd', 'abtest',\n       'vehicle_type', 'registration_year', 'gearbox', 'power_ps', 'model',\n       'odometer_km', 'registration_month', 'fuel_type', 'brand',\n       'unrepaired_damage', 'date_created', 'num_of_pictures', 'postal_code',\n       'last_seen'],\n      dtype='object')"
     },
     "execution_count": 6,
     "metadata": {},
     "output_type": "execute_result"
    }
   ],
   "source": [
    "df.columns"
   ],
   "metadata": {
    "collapsed": false,
    "ExecuteTime": {
     "end_time": "2023-10-27T09:16:37.666172Z",
     "start_time": "2023-10-27T09:16:35.243156Z"
    }
   },
   "id": "6c058bb240740117"
  },
  {
   "cell_type": "code",
   "execution_count": 7,
   "outputs": [],
   "source": [
    "df = df.assign(\n",
    "    date_crawled=lambda x: pd.to_datetime(x.date_crawled),\n",
    "    date_created=lambda x: pd.to_datetime(x.date_created),\n",
    "    last_seen=lambda x: pd.to_datetime(x.last_seen),\n",
    "    postal_code=lambda x: x.postal_code.astype(str),\n",
    "    seller=lambda x: np.where(\n",
    "        x.seller=='privat', 'private', 'commercial'\n",
    "    ),\n",
    "    name=lambda x: x.name.str.replace('_', ' '),\n",
    "    offer_type=lambda x: np.where(\n",
    "        x.offer_type=='Angebot', 'offer', 'request'\n",
    "    ),\n",
    "    price_usd=lambda x: x.price_usd.str.replace('$', '', regex=False).str.replace(',','', regex=False).astype(float),\n",
    "    odometer_km=lambda x: x.odometer_km.str.replace('km', '', regex=False).str.replace(',','', regex=False).astype(float),\n",
    "    gearbox=lambda x: np.where(\n",
    "        x.gearbox.notna(),\n",
    "        np.where(x.gearbox=='manuell', 'manual', 'automatic'),\n",
    "        x.gearbox\n",
    "    ),\n",
    "    vehicle_type=lambda x: x.vehicle_type.str.replace('kleinwagen', 'small car').str.replace('kombi', 'station wagon').str.replace('cabrio', 'convertible').str.replace('andere', 'others'),\n",
    "    fuel_type=lambda x: x.fuel_type.str.replace('benzin', 'petrol').str.replace('elektro', 'electric').str.replace('andere', 'others'),\n",
    "    unrepaired_damage=lambda x: x.unrepaired_damage.str.replace('nein', 'no').str.replace('ja', 'yes'),\n",
    "    model=lambda x: x.model.str.replace('andere', 'others')\n",
    ")"
   ],
   "metadata": {
    "collapsed": false,
    "ExecuteTime": {
     "end_time": "2023-10-27T09:16:37.745584Z",
     "start_time": "2023-10-27T09:16:35.248314Z"
    }
   },
   "id": "2aa4cdec4da53421"
  },
  {
   "cell_type": "code",
   "execution_count": 8,
   "outputs": [
    {
     "data": {
      "text/plain": "date_crawled          datetime64[ns]\nname                          object\nseller                        object\noffer_type                    object\nprice_usd                    float64\nabtest                        object\nvehicle_type                  object\nregistration_year              int64\ngearbox                       object\npower_ps                       int64\nmodel                         object\nodometer_km                  float64\nregistration_month             int64\nfuel_type                     object\nbrand                         object\nunrepaired_damage             object\ndate_created          datetime64[ns]\nnum_of_pictures                int64\npostal_code                   object\nlast_seen             datetime64[ns]\ndtype: object"
     },
     "execution_count": 8,
     "metadata": {},
     "output_type": "execute_result"
    }
   ],
   "source": [
    "df.dtypes"
   ],
   "metadata": {
    "collapsed": false,
    "ExecuteTime": {
     "end_time": "2023-10-27T09:16:37.746561Z",
     "start_time": "2023-10-27T09:16:35.869165Z"
    }
   },
   "id": "38de5cadb8f1ea3c"
  },
  {
   "cell_type": "markdown",
   "source": [
    "**Handling Missing Values**"
   ],
   "metadata": {
    "collapsed": false
   },
   "id": "2b78f8796b5dec47"
  },
  {
   "cell_type": "markdown",
   "source": [
    "Let's drop the `number of pictures` feature since there are no unique values:"
   ],
   "metadata": {
    "collapsed": false
   },
   "id": "8f2257d96ce5b052"
  },
  {
   "cell_type": "code",
   "execution_count": 9,
   "outputs": [
    {
     "data": {
      "text/plain": "0    50000\nName: num_of_pictures, dtype: int64"
     },
     "execution_count": 9,
     "metadata": {},
     "output_type": "execute_result"
    }
   ],
   "source": [
    "df.num_of_pictures.value_counts(dropna=False)"
   ],
   "metadata": {
    "collapsed": false,
    "ExecuteTime": {
     "end_time": "2023-10-27T09:16:37.748650Z",
     "start_time": "2023-10-27T09:16:35.888289Z"
    }
   },
   "id": "41d12d649cc6c88b"
  },
  {
   "cell_type": "code",
   "execution_count": 10,
   "outputs": [],
   "source": [
    "df = df.drop(columns='num_of_pictures')"
   ],
   "metadata": {
    "collapsed": false,
    "ExecuteTime": {
     "end_time": "2023-10-27T09:16:37.749117Z",
     "start_time": "2023-10-27T09:16:35.905203Z"
    }
   },
   "id": "3880d1dfa94cfefe"
  },
  {
   "cell_type": "markdown",
   "source": [
    "Let's drop records where `vehicle type` and `price_usd` are missing. These are most likely improper car listings:"
   ],
   "metadata": {
    "collapsed": false
   },
   "id": "983d32e8e98cdfae"
  },
  {
   "cell_type": "code",
   "execution_count": 11,
   "outputs": [],
   "source": [
    "drop_index = df.loc[(df.vehicle_type.isna()) & (df.price_usd<=100)].index\n",
    "df = df.drop(index=drop_index)"
   ],
   "metadata": {
    "collapsed": false,
    "ExecuteTime": {
     "end_time": "2023-10-27T09:16:37.749355Z",
     "start_time": "2023-10-27T09:16:35.935039Z"
    }
   },
   "id": "d97d20506852ba36"
  },
  {
   "cell_type": "code",
   "execution_count": 12,
   "outputs": [
    {
     "data": {
      "text/plain": "date_crawled             0\nname                     0\nseller                   0\noffer_type               0\nprice_usd                0\nabtest                   0\nvehicle_type          4384\nregistration_year        0\ngearbox               2272\npower_ps                 0\nmodel                 2524\nodometer_km              0\nregistration_month       0\nfuel_type             4019\nbrand                    0\nunrepaired_damage     9290\ndate_created             0\npostal_code              0\nlast_seen                0\ndtype: int64"
     },
     "execution_count": 12,
     "metadata": {},
     "output_type": "execute_result"
    }
   ],
   "source": [
    "df.isnull().sum()"
   ],
   "metadata": {
    "collapsed": false,
    "ExecuteTime": {
     "end_time": "2023-10-27T09:16:37.752416Z",
     "start_time": "2023-10-27T09:16:35.972012Z"
    }
   },
   "id": "95f44582862884b1"
  },
  {
   "cell_type": "markdown",
   "source": [
    "Upon review, most of the missing `vehicle_type` are small cars. We'll replace the missing values with `small car`:"
   ],
   "metadata": {
    "collapsed": false
   },
   "id": "32a839349d078957"
  },
  {
   "cell_type": "code",
   "execution_count": 13,
   "outputs": [
    {
     "data": {
      "text/plain": "                                                    name vehicle_type  \\\n8                                             Seat Arosa          NaN   \n10                          VW Golf Tuning in siber/grau          NaN   \n11                            Mercedes A140 Motorschaden          NaN   \n46                                          BMW mit  Lpg          NaN   \n59                  Mercedes A Klasse W 168  A 140 gruen          NaN   \n...                                                  ...          ...   \n49926                                     Vw golf cabrio          NaN   \n49935  Mercedes A klasse angemeldet mit Tuef und Auto...          NaN   \n49938                     Mercedes Benz A 160 Avantgarde          NaN   \n49985                          Verkaufe meinen vw vento!          NaN   \n49991                                         Kleinwagen          NaN   \n\n       price_usd    gearbox  \n8          250.0     manual  \n10         999.0     manual  \n11         350.0        NaN  \n46        9000.0  automatic  \n59         700.0     manual  \n...          ...        ...  \n49926      850.0        NaN  \n49935      800.0  automatic  \n49938     2300.0  automatic  \n49985     1000.0  automatic  \n49991      500.0     manual  \n\n[4384 rows x 4 columns]",
      "text/html": "<div>\n<style scoped>\n    .dataframe tbody tr th:only-of-type {\n        vertical-align: middle;\n    }\n\n    .dataframe tbody tr th {\n        vertical-align: top;\n    }\n\n    .dataframe thead th {\n        text-align: right;\n    }\n</style>\n<table border=\"1\" class=\"dataframe\">\n  <thead>\n    <tr style=\"text-align: right;\">\n      <th></th>\n      <th>name</th>\n      <th>vehicle_type</th>\n      <th>price_usd</th>\n      <th>gearbox</th>\n    </tr>\n  </thead>\n  <tbody>\n    <tr>\n      <th>8</th>\n      <td>Seat Arosa</td>\n      <td>NaN</td>\n      <td>250.0</td>\n      <td>manual</td>\n    </tr>\n    <tr>\n      <th>10</th>\n      <td>VW Golf Tuning in siber/grau</td>\n      <td>NaN</td>\n      <td>999.0</td>\n      <td>manual</td>\n    </tr>\n    <tr>\n      <th>11</th>\n      <td>Mercedes A140 Motorschaden</td>\n      <td>NaN</td>\n      <td>350.0</td>\n      <td>NaN</td>\n    </tr>\n    <tr>\n      <th>46</th>\n      <td>BMW mit  Lpg</td>\n      <td>NaN</td>\n      <td>9000.0</td>\n      <td>automatic</td>\n    </tr>\n    <tr>\n      <th>59</th>\n      <td>Mercedes A Klasse W 168  A 140 gruen</td>\n      <td>NaN</td>\n      <td>700.0</td>\n      <td>manual</td>\n    </tr>\n    <tr>\n      <th>...</th>\n      <td>...</td>\n      <td>...</td>\n      <td>...</td>\n      <td>...</td>\n    </tr>\n    <tr>\n      <th>49926</th>\n      <td>Vw golf cabrio</td>\n      <td>NaN</td>\n      <td>850.0</td>\n      <td>NaN</td>\n    </tr>\n    <tr>\n      <th>49935</th>\n      <td>Mercedes A klasse angemeldet mit Tuef und Auto...</td>\n      <td>NaN</td>\n      <td>800.0</td>\n      <td>automatic</td>\n    </tr>\n    <tr>\n      <th>49938</th>\n      <td>Mercedes Benz A 160 Avantgarde</td>\n      <td>NaN</td>\n      <td>2300.0</td>\n      <td>automatic</td>\n    </tr>\n    <tr>\n      <th>49985</th>\n      <td>Verkaufe meinen vw vento!</td>\n      <td>NaN</td>\n      <td>1000.0</td>\n      <td>automatic</td>\n    </tr>\n    <tr>\n      <th>49991</th>\n      <td>Kleinwagen</td>\n      <td>NaN</td>\n      <td>500.0</td>\n      <td>manual</td>\n    </tr>\n  </tbody>\n</table>\n<p>4384 rows × 4 columns</p>\n</div>"
     },
     "execution_count": 13,
     "metadata": {},
     "output_type": "execute_result"
    }
   ],
   "source": [
    "df.loc[df.vehicle_type.isna(), ['name', 'vehicle_type', 'price_usd', 'gearbox']]"
   ],
   "metadata": {
    "collapsed": false,
    "ExecuteTime": {
     "end_time": "2023-10-27T09:16:37.754410Z",
     "start_time": "2023-10-27T09:16:36.087525Z"
    }
   },
   "id": "dc4713317c70262b"
  },
  {
   "cell_type": "code",
   "execution_count": 14,
   "outputs": [],
   "source": [
    "df.loc[df.vehicle_type.isna(), 'vehicle_type'] = 'small car'"
   ],
   "metadata": {
    "collapsed": false,
    "ExecuteTime": {
     "end_time": "2023-10-27T09:16:37.764832Z",
     "start_time": "2023-10-27T09:16:36.120794Z"
    }
   },
   "id": "b57620df58cf2df3"
  },
  {
   "cell_type": "markdown",
   "source": [
    "Fill `gearbox` missing values with the mode:"
   ],
   "metadata": {
    "collapsed": false
   },
   "id": "669e0c0780f84b6a"
  },
  {
   "cell_type": "code",
   "execution_count": 15,
   "outputs": [
    {
     "data": {
      "text/plain": "0    manual\nName: gearbox, dtype: object"
     },
     "execution_count": 15,
     "metadata": {},
     "output_type": "execute_result"
    }
   ],
   "source": [
    "df.gearbox.mode()"
   ],
   "metadata": {
    "collapsed": false,
    "ExecuteTime": {
     "end_time": "2023-10-27T09:16:37.767515Z",
     "start_time": "2023-10-27T09:16:36.142583Z"
    }
   },
   "id": "82946944d5d9ec68"
  },
  {
   "cell_type": "code",
   "execution_count": 16,
   "outputs": [],
   "source": [
    "df.loc[df.gearbox.isna(), 'gearbox'] = 'manual'"
   ],
   "metadata": {
    "collapsed": false,
    "ExecuteTime": {
     "end_time": "2023-10-27T09:16:37.767942Z",
     "start_time": "2023-10-27T09:16:36.165374Z"
    }
   },
   "id": "7f9f3448d958a5d"
  },
  {
   "cell_type": "markdown",
   "source": [
    "Update missing values in `fuel_type` with mode:"
   ],
   "metadata": {
    "collapsed": false
   },
   "id": "95445fc666fb9eac"
  },
  {
   "cell_type": "code",
   "execution_count": 17,
   "outputs": [
    {
     "data": {
      "text/plain": "petrol      29929\ndiesel      14507\nlpg           688\ncng            71\nhybrid         37\nothers         20\nelectric       18\nName: fuel_type, dtype: int64"
     },
     "execution_count": 17,
     "metadata": {},
     "output_type": "execute_result"
    }
   ],
   "source": [
    "df.fuel_type.value_counts()"
   ],
   "metadata": {
    "collapsed": false,
    "ExecuteTime": {
     "end_time": "2023-10-27T09:16:37.769460Z",
     "start_time": "2023-10-27T09:16:36.176531Z"
    }
   },
   "id": "80f594b2fe3f2fb1"
  },
  {
   "cell_type": "code",
   "execution_count": 18,
   "outputs": [],
   "source": [
    "df.loc[df.fuel_type.isna(), 'fuel_type'] = 'petrol'"
   ],
   "metadata": {
    "collapsed": false,
    "ExecuteTime": {
     "end_time": "2023-10-27T09:16:37.769790Z",
     "start_time": "2023-10-27T09:16:36.185715Z"
    }
   },
   "id": "9bbeb866464d1f98"
  },
  {
   "cell_type": "markdown",
   "source": [
    "Update missing values in `unrepaired_damage` with mode:"
   ],
   "metadata": {
    "collapsed": false
   },
   "id": "52879b2e8a32f4a3"
  },
  {
   "cell_type": "code",
   "execution_count": 19,
   "outputs": [
    {
     "data": {
      "text/plain": "no     35136\nNaN     9290\nyes     4863\nName: unrepaired_damage, dtype: int64"
     },
     "execution_count": 19,
     "metadata": {},
     "output_type": "execute_result"
    }
   ],
   "source": [
    "df.unrepaired_damage.value_counts(dropna=False)"
   ],
   "metadata": {
    "collapsed": false,
    "ExecuteTime": {
     "end_time": "2023-10-27T09:16:37.773939Z",
     "start_time": "2023-10-27T09:16:36.194573Z"
    }
   },
   "id": "fd1ed0e1878f2ff2"
  },
  {
   "cell_type": "code",
   "execution_count": 20,
   "outputs": [],
   "source": [
    "df.loc[df.unrepaired_damage.isna(), 'unrepaired_damage'] = 'no'"
   ],
   "metadata": {
    "collapsed": false,
    "ExecuteTime": {
     "end_time": "2023-10-27T09:16:37.776306Z",
     "start_time": "2023-10-27T09:16:36.204506Z"
    }
   },
   "id": "eef4f9a77fb6184d"
  },
  {
   "cell_type": "markdown",
   "source": [
    "Update missing values in `model` with `others`:"
   ],
   "metadata": {
    "collapsed": false
   },
   "id": "ad99fef2aeaddfa7"
  },
  {
   "cell_type": "code",
   "execution_count": 21,
   "outputs": [
    {
     "data": {
      "text/plain": "golf          3954\nothers        3490\n3er           2741\nNaN           2524\npolo          1721\n              ... \nkalina           2\nrangerover       1\ni3               1\n200              1\nb_max            1\nName: model, Length: 246, dtype: int64"
     },
     "execution_count": 21,
     "metadata": {},
     "output_type": "execute_result"
    }
   ],
   "source": [
    "df.model.value_counts(dropna=False)"
   ],
   "metadata": {
    "collapsed": false,
    "ExecuteTime": {
     "end_time": "2023-10-27T09:16:37.779982Z",
     "start_time": "2023-10-27T09:16:36.212338Z"
    }
   },
   "id": "89d7156f40c9a28a"
  },
  {
   "cell_type": "code",
   "execution_count": 22,
   "outputs": [],
   "source": [
    "df.loc[df.model.isna(), 'model'] = 'others'"
   ],
   "metadata": {
    "collapsed": false,
    "ExecuteTime": {
     "end_time": "2023-10-27T09:16:37.780790Z",
     "start_time": "2023-10-27T09:16:36.225815Z"
    }
   },
   "id": "d9d7f6c005996af3"
  },
  {
   "cell_type": "markdown",
   "source": [
    "Check for missing values:"
   ],
   "metadata": {
    "collapsed": false
   },
   "id": "8785c523c906392a"
  },
  {
   "cell_type": "code",
   "execution_count": 23,
   "outputs": [
    {
     "data": {
      "text/plain": "date_crawled          0\nname                  0\nseller                0\noffer_type            0\nprice_usd             0\nabtest                0\nvehicle_type          0\nregistration_year     0\ngearbox               0\npower_ps              0\nmodel                 0\nodometer_km           0\nregistration_month    0\nfuel_type             0\nbrand                 0\nunrepaired_damage     0\ndate_created          0\npostal_code           0\nlast_seen             0\ndtype: int64"
     },
     "execution_count": 23,
     "metadata": {},
     "output_type": "execute_result"
    }
   ],
   "source": [
    "df.isnull().sum()"
   ],
   "metadata": {
    "collapsed": false,
    "ExecuteTime": {
     "end_time": "2023-10-27T09:16:37.782482Z",
     "start_time": "2023-10-27T09:16:36.233805Z"
    }
   },
   "id": "ef6c0794ea4c3029"
  },
  {
   "cell_type": "markdown",
   "source": [
    "Separate date and time from `date_crawled`:"
   ],
   "metadata": {
    "collapsed": false
   },
   "id": "153413058a8b1aa1"
  },
  {
   "cell_type": "code",
   "execution_count": 24,
   "outputs": [],
   "source": [
    "df[['date_crawled', 'time_crawled']] = df['date_crawled'].astype(str).str.split(pat=' ', n=1, expand=True)\n",
    "\n",
    "df['date_crawled'] = pd.to_datetime(df['date_crawled'])\n",
    "df['time_crawled'] = pd.to_datetime(df['time_crawled'], format='%H:%M:%S').dt.time"
   ],
   "metadata": {
    "collapsed": false,
    "ExecuteTime": {
     "end_time": "2023-10-27T09:16:37.786319Z",
     "start_time": "2023-10-27T09:16:36.375910Z"
    }
   },
   "id": "96de44c32b97ab29"
  },
  {
   "cell_type": "code",
   "execution_count": 25,
   "outputs": [
    {
     "data": {
      "text/plain": "  date_crawled time_crawled  \\\n0   2016-03-26     17:47:46   \n1   2016-04-04     13:38:56   \n2   2016-03-26     18:57:24   \n3   2016-03-12     16:58:10   \n4   2016-04-01     14:38:50   \n\n                                                name   seller offer_type  \\\n0                   Peugeot 807 160 NAVTECH ON BOARD  private      offer   \n1         BMW 740i 4 4 Liter HAMANN UMBAU Mega Optik  private      offer   \n2                         Volkswagen Golf 1.6 United  private      offer   \n3  Smart smart fortwo coupe softouch/F1/Klima/Pan...  private      offer   \n4  Ford Focus 1 6 Benzin TÜV neu ist sehr gepfleg...  private      offer   \n\n   price_usd   abtest   vehicle_type  registration_year    gearbox  power_ps  \\\n0     5000.0  control            bus               2004     manual       158   \n1     8500.0  control      limousine               1997  automatic       286   \n2     8990.0     test      limousine               2009     manual       102   \n3     4350.0  control      small car               2007  automatic        71   \n4     1350.0     test  station wagon               2003     manual         0   \n\n    model  odometer_km  registration_month fuel_type       brand  \\\n0  others     150000.0                   3       lpg     peugeot   \n1     7er     150000.0                   6    petrol         bmw   \n2    golf      70000.0                   7    petrol  volkswagen   \n3  fortwo      70000.0                   6    petrol       smart   \n4   focus     150000.0                   7    petrol        ford   \n\n  unrepaired_damage date_created postal_code           last_seen  \n0                no   2016-03-26       79588 2016-04-06 06:45:54  \n1                no   2016-04-04       71034 2016-04-06 14:45:08  \n2                no   2016-03-26       35394 2016-04-06 20:15:37  \n3                no   2016-03-12       33729 2016-03-15 03:16:28  \n4                no   2016-04-01       39218 2016-04-01 14:38:50  ",
      "text/html": "<div>\n<style scoped>\n    .dataframe tbody tr th:only-of-type {\n        vertical-align: middle;\n    }\n\n    .dataframe tbody tr th {\n        vertical-align: top;\n    }\n\n    .dataframe thead th {\n        text-align: right;\n    }\n</style>\n<table border=\"1\" class=\"dataframe\">\n  <thead>\n    <tr style=\"text-align: right;\">\n      <th></th>\n      <th>date_crawled</th>\n      <th>time_crawled</th>\n      <th>name</th>\n      <th>seller</th>\n      <th>offer_type</th>\n      <th>price_usd</th>\n      <th>abtest</th>\n      <th>vehicle_type</th>\n      <th>registration_year</th>\n      <th>gearbox</th>\n      <th>power_ps</th>\n      <th>model</th>\n      <th>odometer_km</th>\n      <th>registration_month</th>\n      <th>fuel_type</th>\n      <th>brand</th>\n      <th>unrepaired_damage</th>\n      <th>date_created</th>\n      <th>postal_code</th>\n      <th>last_seen</th>\n    </tr>\n  </thead>\n  <tbody>\n    <tr>\n      <th>0</th>\n      <td>2016-03-26</td>\n      <td>17:47:46</td>\n      <td>Peugeot 807 160 NAVTECH ON BOARD</td>\n      <td>private</td>\n      <td>offer</td>\n      <td>5000.0</td>\n      <td>control</td>\n      <td>bus</td>\n      <td>2004</td>\n      <td>manual</td>\n      <td>158</td>\n      <td>others</td>\n      <td>150000.0</td>\n      <td>3</td>\n      <td>lpg</td>\n      <td>peugeot</td>\n      <td>no</td>\n      <td>2016-03-26</td>\n      <td>79588</td>\n      <td>2016-04-06 06:45:54</td>\n    </tr>\n    <tr>\n      <th>1</th>\n      <td>2016-04-04</td>\n      <td>13:38:56</td>\n      <td>BMW 740i 4 4 Liter HAMANN UMBAU Mega Optik</td>\n      <td>private</td>\n      <td>offer</td>\n      <td>8500.0</td>\n      <td>control</td>\n      <td>limousine</td>\n      <td>1997</td>\n      <td>automatic</td>\n      <td>286</td>\n      <td>7er</td>\n      <td>150000.0</td>\n      <td>6</td>\n      <td>petrol</td>\n      <td>bmw</td>\n      <td>no</td>\n      <td>2016-04-04</td>\n      <td>71034</td>\n      <td>2016-04-06 14:45:08</td>\n    </tr>\n    <tr>\n      <th>2</th>\n      <td>2016-03-26</td>\n      <td>18:57:24</td>\n      <td>Volkswagen Golf 1.6 United</td>\n      <td>private</td>\n      <td>offer</td>\n      <td>8990.0</td>\n      <td>test</td>\n      <td>limousine</td>\n      <td>2009</td>\n      <td>manual</td>\n      <td>102</td>\n      <td>golf</td>\n      <td>70000.0</td>\n      <td>7</td>\n      <td>petrol</td>\n      <td>volkswagen</td>\n      <td>no</td>\n      <td>2016-03-26</td>\n      <td>35394</td>\n      <td>2016-04-06 20:15:37</td>\n    </tr>\n    <tr>\n      <th>3</th>\n      <td>2016-03-12</td>\n      <td>16:58:10</td>\n      <td>Smart smart fortwo coupe softouch/F1/Klima/Pan...</td>\n      <td>private</td>\n      <td>offer</td>\n      <td>4350.0</td>\n      <td>control</td>\n      <td>small car</td>\n      <td>2007</td>\n      <td>automatic</td>\n      <td>71</td>\n      <td>fortwo</td>\n      <td>70000.0</td>\n      <td>6</td>\n      <td>petrol</td>\n      <td>smart</td>\n      <td>no</td>\n      <td>2016-03-12</td>\n      <td>33729</td>\n      <td>2016-03-15 03:16:28</td>\n    </tr>\n    <tr>\n      <th>4</th>\n      <td>2016-04-01</td>\n      <td>14:38:50</td>\n      <td>Ford Focus 1 6 Benzin TÜV neu ist sehr gepfleg...</td>\n      <td>private</td>\n      <td>offer</td>\n      <td>1350.0</td>\n      <td>test</td>\n      <td>station wagon</td>\n      <td>2003</td>\n      <td>manual</td>\n      <td>0</td>\n      <td>focus</td>\n      <td>150000.0</td>\n      <td>7</td>\n      <td>petrol</td>\n      <td>ford</td>\n      <td>no</td>\n      <td>2016-04-01</td>\n      <td>39218</td>\n      <td>2016-04-01 14:38:50</td>\n    </tr>\n  </tbody>\n</table>\n</div>"
     },
     "execution_count": 25,
     "metadata": {},
     "output_type": "execute_result"
    }
   ],
   "source": [
    "col_order = [\n",
    "    'date_crawled', 'time_crawled', 'name', 'seller', 'offer_type', 'price_usd', 'abtest', 'vehicle_type', 'registration_year', 'gearbox', 'power_ps', 'model', 'odometer_km', 'registration_month', 'fuel_type', 'brand', 'unrepaired_damage', 'date_created', 'postal_code', 'last_seen',\n",
    "]\n",
    "df = df[col_order]\n",
    "\n",
    "df.head()"
   ],
   "metadata": {
    "collapsed": false,
    "ExecuteTime": {
     "end_time": "2023-10-27T09:16:38.577774Z",
     "start_time": "2023-10-27T09:16:36.964732Z"
    }
   },
   "id": "2e38056027479f10"
  },
  {
   "cell_type": "code",
   "execution_count": 26,
   "outputs": [
    {
     "name": "stdout",
     "output_type": "stream",
     "text": [
      "<class 'pandas.core.frame.DataFrame'>\n",
      "Int64Index: 49289 entries, 0 to 49999\n",
      "Data columns (total 20 columns):\n",
      " #   Column              Non-Null Count  Dtype         \n",
      "---  ------              --------------  -----         \n",
      " 0   date_crawled        49289 non-null  datetime64[ns]\n",
      " 1   time_crawled        49289 non-null  object        \n",
      " 2   name                49289 non-null  object        \n",
      " 3   seller              49289 non-null  object        \n",
      " 4   offer_type          49289 non-null  object        \n",
      " 5   price_usd           49289 non-null  float64       \n",
      " 6   abtest              49289 non-null  object        \n",
      " 7   vehicle_type        49289 non-null  object        \n",
      " 8   registration_year   49289 non-null  int64         \n",
      " 9   gearbox             49289 non-null  object        \n",
      " 10  power_ps            49289 non-null  int64         \n",
      " 11  model               49289 non-null  object        \n",
      " 12  odometer_km         49289 non-null  float64       \n",
      " 13  registration_month  49289 non-null  int64         \n",
      " 14  fuel_type           49289 non-null  object        \n",
      " 15  brand               49289 non-null  object        \n",
      " 16  unrepaired_damage   49289 non-null  object        \n",
      " 17  date_created        49289 non-null  datetime64[ns]\n",
      " 18  postal_code         49289 non-null  object        \n",
      " 19  last_seen           49289 non-null  datetime64[ns]\n",
      "dtypes: datetime64[ns](3), float64(2), int64(3), object(12)\n",
      "memory usage: 7.9+ MB\n"
     ]
    }
   ],
   "source": [
    "df.info()"
   ],
   "metadata": {
    "collapsed": false,
    "ExecuteTime": {
     "end_time": "2023-10-27T09:16:38.579897Z",
     "start_time": "2023-10-27T09:16:37.012109Z"
    }
   },
   "id": "43a5d680d8024547"
  },
  {
   "cell_type": "markdown",
   "source": [
    "**Dealing with Incorrect Registration Year Data**\n",
    "\n",
    "Replace registration year with crawled year where the registration year is higher than the crawled year. This is because, we don't expect cars to be registered after they are posted:"
   ],
   "metadata": {
    "collapsed": false
   },
   "id": "e072e3f3ca3d0d45"
  },
  {
   "cell_type": "code",
   "execution_count": 42,
   "outputs": [],
   "source": [
    "reg_index = df.assign(\n",
    "    year_crawled=lambda x: x.date_crawled.dt.year,\n",
    "    reg_greater_crawl=lambda x: np.where(\n",
    "        x.year_crawled < x.registration_year,\n",
    "        'no', 'yes'\n",
    "    ),\n",
    ").query('reg_greater_crawl==\"no\" & registration_year > year_crawled').index\n",
    "\n",
    "df.loc[reg_index, 'registration_year'] = df.loc[reg_index, 'date_crawled'].dt.year"
   ],
   "metadata": {
    "collapsed": false,
    "ExecuteTime": {
     "end_time": "2023-10-27T10:29:25.837226Z",
     "start_time": "2023-10-27T10:29:25.657769Z"
    }
   },
   "id": "5e301b06fb5958ad"
  },
  {
   "cell_type": "code",
   "execution_count": 43,
   "outputs": [
    {
     "data": {
      "text/plain": "Empty DataFrame\nColumns: [date_crawled, time_crawled, name, seller, offer_type, price_usd, abtest, vehicle_type, registration_year, gearbox, power_ps, model, odometer_km, registration_month, fuel_type, brand, unrepaired_damage, date_created, postal_code, last_seen, year_crawled, reg_greater_crawl]\nIndex: []\n\n[0 rows x 22 columns]",
      "text/html": "<div>\n<style scoped>\n    .dataframe tbody tr th:only-of-type {\n        vertical-align: middle;\n    }\n\n    .dataframe tbody tr th {\n        vertical-align: top;\n    }\n\n    .dataframe thead th {\n        text-align: right;\n    }\n</style>\n<table border=\"1\" class=\"dataframe\">\n  <thead>\n    <tr style=\"text-align: right;\">\n      <th></th>\n      <th>date_crawled</th>\n      <th>time_crawled</th>\n      <th>name</th>\n      <th>seller</th>\n      <th>offer_type</th>\n      <th>price_usd</th>\n      <th>abtest</th>\n      <th>vehicle_type</th>\n      <th>registration_year</th>\n      <th>gearbox</th>\n      <th>...</th>\n      <th>odometer_km</th>\n      <th>registration_month</th>\n      <th>fuel_type</th>\n      <th>brand</th>\n      <th>unrepaired_damage</th>\n      <th>date_created</th>\n      <th>postal_code</th>\n      <th>last_seen</th>\n      <th>year_crawled</th>\n      <th>reg_greater_crawl</th>\n    </tr>\n  </thead>\n  <tbody>\n  </tbody>\n</table>\n<p>0 rows × 22 columns</p>\n</div>"
     },
     "execution_count": 43,
     "metadata": {},
     "output_type": "execute_result"
    }
   ],
   "source": [
    "df.assign(\n",
    "    year_crawled=lambda x: x.date_crawled.dt.year,\n",
    "    reg_greater_crawl=lambda x: np.where(\n",
    "        x.year_crawled < x.registration_year,\n",
    "        'no', 'yes'\n",
    "    ),\n",
    ").query('reg_greater_crawl==\"no\" & registration_year > year_crawled')"
   ],
   "metadata": {
    "collapsed": false,
    "ExecuteTime": {
     "end_time": "2023-10-27T10:29:37.966951Z",
     "start_time": "2023-10-27T10:29:37.817112Z"
    }
   },
   "id": "16c959503e21260b"
  },
  {
   "cell_type": "markdown",
   "source": [
    "Replace all registration years less than 1950 with 1950:"
   ],
   "metadata": {
    "collapsed": false
   },
   "id": "594731df78b2c6f"
  },
  {
   "cell_type": "code",
   "execution_count": 50,
   "outputs": [
    {
     "data": {
      "text/plain": "      date_crawled time_crawled  \\\n2221    2016-03-15     14:57:07   \n2573    2016-03-19     22:51:25   \n10556   2016-04-01     06:02:10   \n11047   2016-03-08     20:50:10   \n11246   2016-03-26     19:49:59   \n11585   2016-03-11     21:48:36   \n13963   2016-03-20     17:51:49   \n21416   2016-03-12     08:36:21   \n21421   2016-03-05     17:45:32   \n22101   2016-03-09     16:51:17   \n22316   2016-03-29     16:56:41   \n22659   2016-03-14     08:51:18   \n23804   2016-03-30     22:42:50   \n24511   2016-03-17     19:45:11   \n24855   2016-03-31     13:57:18   \n25792   2016-03-09     10:54:11   \n26103   2016-03-16     12:37:38   \n26607   2016-03-21     14:45:26   \n28693   2016-03-22     17:48:41   \n32585   2016-04-02     16:56:39   \n39725   2016-03-25     22:54:31   \n46213   2016-04-02     13:47:16   \n49283   2016-03-15     18:38:53   \n\n                                                    name   seller offer_type  \\\n2221   Sehr seltener Oldtimer Opel 1210 zum Restaurieren  private      offer   \n2573               Hanomag rekord 15k Suche ersatz teile  private      offer   \n10556                                         UNFAL Auto  private      offer   \n11047          Andere Simca 5 Fourgonette Kombilimousine  private      offer   \n11246                  Ford Model A Roadster Deluxe 1931  private      offer   \n11585                              Volkswagen  VW Typ 82  private      offer   \n13963  Mercedes Benz L1500S Wehrmacht / Luftwaffe   F...  private      offer   \n21416                            Essex super six  Ford A  private      offer   \n21421            Ford Business Coupe Hotrod Projekt.1937  private      offer   \n22101                                         BMW Andere  private      offer   \n22316              VW Kaefer.  Zwei zum Preis von einem.  private      offer   \n22659                                       Opel Corsa B  private      offer   \n23804                                 Mercedes Benz 170V  private      offer   \n24511                        Trabant  wartburg  Ostalgie  private      offer   \n24855                      Andere DKW F8 Cabrio Limosine  private      offer   \n25792              Andere GAZ Oldtimergelaendewagen 1941  private      offer   \n26103               Oldtimer Sport   Cabrio Georges Irat  private      offer   \n26607                                          MG Andere  private      offer   \n28693                                     Renault Twingo  private      offer   \n32585                                         UNFAL Auto  private      offer   \n39725  Dodge 1937 Hotrod Flathead Scheunenfund Oldtim...  private      offer   \n46213                                      Bellier Vario  private      offer   \n49283                                         Citroen HY  private      offer   \n\n       price_usd   abtest   vehicle_type  registration_year gearbox  power_ps  \\\n2221      3350.0  control         others               1934  manual         0   \n2573      3000.0     test         others               1934  manual         0   \n10556      450.0  control      small car               1800  manual      1800   \n11047    17500.0  control  station wagon               1948  manual         0   \n11246    27500.0  control    convertible               1931  manual        39   \n11585    41900.0     test    convertible               1943  manual         0   \n13963    26900.0     test         others               1941  manual        60   \n21416    16500.0  control    convertible               1927  manual        40   \n21421     7000.0     test          coupe               1937  manual        85   \n22101    11500.0     test    convertible               1929  manual        15   \n22316     1500.0  control      small car               1000  manual         0   \n22659      500.0     test      small car               1910  manual         0   \n23804     4800.0  control      limousine               1937  manual        38   \n24511      490.0  control      small car               1111  manual         0   \n24855    26600.0  control    convertible               1939  manual         0   \n25792     9500.0  control            suv               1941  manual        57   \n26103     8500.0     test    convertible               1938  manual         0   \n26607    25500.0  control    convertible               1937  manual        50   \n28693      599.0  control      small car               1910  manual         0   \n32585      450.0  control      small car               1800  manual      1800   \n39725     8990.0  control      limousine               1937  manual         0   \n46213        0.0     test      small car               1910  manual         0   \n49283     7750.0  control      small car               1001  manual         0   \n\n        model  odometer_km  registration_month fuel_type           brand  \\\n2221   others       5000.0                   0    petrol            opel   \n2573   others      90000.0                   1    petrol  sonstige_autos   \n10556  others       5000.0                   2    petrol      mitsubishi   \n11047  others      60000.0                   6    petrol  sonstige_autos   \n11246  others      10000.0                   7    petrol            ford   \n11585  others     100000.0                   7    petrol      volkswagen   \n13963  others      60000.0                   7    petrol   mercedes_benz   \n21416  others       5000.0                   5    petrol            ford   \n21421  others       5000.0                   8    petrol            ford   \n22101  others       5000.0                   1    petrol             bmw   \n22316  kaefer       5000.0                   0    petrol      volkswagen   \n22659   corsa     150000.0                   0    petrol            opel   \n23804  others       5000.0                   0    petrol   mercedes_benz   \n24511  others       5000.0                   0    petrol         trabant   \n24855  others       5000.0                   7    petrol  sonstige_autos   \n25792  others      40000.0                   1    petrol  sonstige_autos   \n26103  others       5000.0                   6    petrol  sonstige_autos   \n26607  others      50000.0                   5    petrol  sonstige_autos   \n28693  others       5000.0                   0    petrol         renault   \n32585  others       5000.0                   2    petrol      mitsubishi   \n39725  others     150000.0                   7    petrol  sonstige_autos   \n46213  others       5000.0                   1    others  sonstige_autos   \n49283  others       5000.0                   0    petrol         citroen   \n\n      unrepaired_damage date_created postal_code           last_seen  \n2221                yes   2016-03-15       49828 2016-04-06 06:17:51  \n2573                 no   2016-03-19       90489 2016-03-19 22:51:25  \n10556                no   2016-04-01       63322 2016-04-01 09:42:30  \n11047                no   2016-03-08       47546 2016-04-05 21:15:42  \n11246                no   2016-03-26        9322 2016-04-06 09:46:59  \n11585               yes   2016-03-11       84174 2016-03-21 13:18:05  \n13963                no   2016-03-20       38723 2016-04-07 01:17:51  \n21416                no   2016-03-12       74821 2016-03-15 12:45:12  \n21421               yes   2016-03-05        8359 2016-04-07 10:44:39  \n22101               yes   2016-03-09       70569 2016-04-07 06:17:11  \n22316                no   2016-03-29       48324 2016-03-31 10:15:28  \n22659                no   2016-03-14       52393 2016-04-03 07:53:55  \n23804                no   2016-03-30       23936 2016-03-30 22:42:50  \n24511                no   2016-03-17       16818 2016-04-07 07:17:29  \n24855               yes   2016-03-31       55278 2016-04-06 07:15:57  \n25792                no   2016-03-09       59557 2016-03-12 21:16:29  \n26103               yes   2016-03-16       61118 2016-03-16 19:43:33  \n26607                no   2016-03-21       53804 2016-04-06 11:17:17  \n28693                no   2016-03-22       70376 2016-04-06 09:16:59  \n32585                no   2016-04-02       63322 2016-04-04 14:46:21  \n39725                no   2016-03-25        3042 2016-04-05 15:47:14  \n46213                no   2016-04-02       93105 2016-04-04 11:16:30  \n49283                no   2016-03-15       66706 2016-04-06 18:47:20  ",
      "text/html": "<div>\n<style scoped>\n    .dataframe tbody tr th:only-of-type {\n        vertical-align: middle;\n    }\n\n    .dataframe tbody tr th {\n        vertical-align: top;\n    }\n\n    .dataframe thead th {\n        text-align: right;\n    }\n</style>\n<table border=\"1\" class=\"dataframe\">\n  <thead>\n    <tr style=\"text-align: right;\">\n      <th></th>\n      <th>date_crawled</th>\n      <th>time_crawled</th>\n      <th>name</th>\n      <th>seller</th>\n      <th>offer_type</th>\n      <th>price_usd</th>\n      <th>abtest</th>\n      <th>vehicle_type</th>\n      <th>registration_year</th>\n      <th>gearbox</th>\n      <th>power_ps</th>\n      <th>model</th>\n      <th>odometer_km</th>\n      <th>registration_month</th>\n      <th>fuel_type</th>\n      <th>brand</th>\n      <th>unrepaired_damage</th>\n      <th>date_created</th>\n      <th>postal_code</th>\n      <th>last_seen</th>\n    </tr>\n  </thead>\n  <tbody>\n    <tr>\n      <th>2221</th>\n      <td>2016-03-15</td>\n      <td>14:57:07</td>\n      <td>Sehr seltener Oldtimer Opel 1210 zum Restaurieren</td>\n      <td>private</td>\n      <td>offer</td>\n      <td>3350.0</td>\n      <td>control</td>\n      <td>others</td>\n      <td>1934</td>\n      <td>manual</td>\n      <td>0</td>\n      <td>others</td>\n      <td>5000.0</td>\n      <td>0</td>\n      <td>petrol</td>\n      <td>opel</td>\n      <td>yes</td>\n      <td>2016-03-15</td>\n      <td>49828</td>\n      <td>2016-04-06 06:17:51</td>\n    </tr>\n    <tr>\n      <th>2573</th>\n      <td>2016-03-19</td>\n      <td>22:51:25</td>\n      <td>Hanomag rekord 15k Suche ersatz teile</td>\n      <td>private</td>\n      <td>offer</td>\n      <td>3000.0</td>\n      <td>test</td>\n      <td>others</td>\n      <td>1934</td>\n      <td>manual</td>\n      <td>0</td>\n      <td>others</td>\n      <td>90000.0</td>\n      <td>1</td>\n      <td>petrol</td>\n      <td>sonstige_autos</td>\n      <td>no</td>\n      <td>2016-03-19</td>\n      <td>90489</td>\n      <td>2016-03-19 22:51:25</td>\n    </tr>\n    <tr>\n      <th>10556</th>\n      <td>2016-04-01</td>\n      <td>06:02:10</td>\n      <td>UNFAL Auto</td>\n      <td>private</td>\n      <td>offer</td>\n      <td>450.0</td>\n      <td>control</td>\n      <td>small car</td>\n      <td>1800</td>\n      <td>manual</td>\n      <td>1800</td>\n      <td>others</td>\n      <td>5000.0</td>\n      <td>2</td>\n      <td>petrol</td>\n      <td>mitsubishi</td>\n      <td>no</td>\n      <td>2016-04-01</td>\n      <td>63322</td>\n      <td>2016-04-01 09:42:30</td>\n    </tr>\n    <tr>\n      <th>11047</th>\n      <td>2016-03-08</td>\n      <td>20:50:10</td>\n      <td>Andere Simca 5 Fourgonette Kombilimousine</td>\n      <td>private</td>\n      <td>offer</td>\n      <td>17500.0</td>\n      <td>control</td>\n      <td>station wagon</td>\n      <td>1948</td>\n      <td>manual</td>\n      <td>0</td>\n      <td>others</td>\n      <td>60000.0</td>\n      <td>6</td>\n      <td>petrol</td>\n      <td>sonstige_autos</td>\n      <td>no</td>\n      <td>2016-03-08</td>\n      <td>47546</td>\n      <td>2016-04-05 21:15:42</td>\n    </tr>\n    <tr>\n      <th>11246</th>\n      <td>2016-03-26</td>\n      <td>19:49:59</td>\n      <td>Ford Model A Roadster Deluxe 1931</td>\n      <td>private</td>\n      <td>offer</td>\n      <td>27500.0</td>\n      <td>control</td>\n      <td>convertible</td>\n      <td>1931</td>\n      <td>manual</td>\n      <td>39</td>\n      <td>others</td>\n      <td>10000.0</td>\n      <td>7</td>\n      <td>petrol</td>\n      <td>ford</td>\n      <td>no</td>\n      <td>2016-03-26</td>\n      <td>9322</td>\n      <td>2016-04-06 09:46:59</td>\n    </tr>\n    <tr>\n      <th>11585</th>\n      <td>2016-03-11</td>\n      <td>21:48:36</td>\n      <td>Volkswagen  VW Typ 82</td>\n      <td>private</td>\n      <td>offer</td>\n      <td>41900.0</td>\n      <td>test</td>\n      <td>convertible</td>\n      <td>1943</td>\n      <td>manual</td>\n      <td>0</td>\n      <td>others</td>\n      <td>100000.0</td>\n      <td>7</td>\n      <td>petrol</td>\n      <td>volkswagen</td>\n      <td>yes</td>\n      <td>2016-03-11</td>\n      <td>84174</td>\n      <td>2016-03-21 13:18:05</td>\n    </tr>\n    <tr>\n      <th>13963</th>\n      <td>2016-03-20</td>\n      <td>17:51:49</td>\n      <td>Mercedes Benz L1500S Wehrmacht / Luftwaffe   F...</td>\n      <td>private</td>\n      <td>offer</td>\n      <td>26900.0</td>\n      <td>test</td>\n      <td>others</td>\n      <td>1941</td>\n      <td>manual</td>\n      <td>60</td>\n      <td>others</td>\n      <td>60000.0</td>\n      <td>7</td>\n      <td>petrol</td>\n      <td>mercedes_benz</td>\n      <td>no</td>\n      <td>2016-03-20</td>\n      <td>38723</td>\n      <td>2016-04-07 01:17:51</td>\n    </tr>\n    <tr>\n      <th>21416</th>\n      <td>2016-03-12</td>\n      <td>08:36:21</td>\n      <td>Essex super six  Ford A</td>\n      <td>private</td>\n      <td>offer</td>\n      <td>16500.0</td>\n      <td>control</td>\n      <td>convertible</td>\n      <td>1927</td>\n      <td>manual</td>\n      <td>40</td>\n      <td>others</td>\n      <td>5000.0</td>\n      <td>5</td>\n      <td>petrol</td>\n      <td>ford</td>\n      <td>no</td>\n      <td>2016-03-12</td>\n      <td>74821</td>\n      <td>2016-03-15 12:45:12</td>\n    </tr>\n    <tr>\n      <th>21421</th>\n      <td>2016-03-05</td>\n      <td>17:45:32</td>\n      <td>Ford Business Coupe Hotrod Projekt.1937</td>\n      <td>private</td>\n      <td>offer</td>\n      <td>7000.0</td>\n      <td>test</td>\n      <td>coupe</td>\n      <td>1937</td>\n      <td>manual</td>\n      <td>85</td>\n      <td>others</td>\n      <td>5000.0</td>\n      <td>8</td>\n      <td>petrol</td>\n      <td>ford</td>\n      <td>yes</td>\n      <td>2016-03-05</td>\n      <td>8359</td>\n      <td>2016-04-07 10:44:39</td>\n    </tr>\n    <tr>\n      <th>22101</th>\n      <td>2016-03-09</td>\n      <td>16:51:17</td>\n      <td>BMW Andere</td>\n      <td>private</td>\n      <td>offer</td>\n      <td>11500.0</td>\n      <td>test</td>\n      <td>convertible</td>\n      <td>1929</td>\n      <td>manual</td>\n      <td>15</td>\n      <td>others</td>\n      <td>5000.0</td>\n      <td>1</td>\n      <td>petrol</td>\n      <td>bmw</td>\n      <td>yes</td>\n      <td>2016-03-09</td>\n      <td>70569</td>\n      <td>2016-04-07 06:17:11</td>\n    </tr>\n    <tr>\n      <th>22316</th>\n      <td>2016-03-29</td>\n      <td>16:56:41</td>\n      <td>VW Kaefer.  Zwei zum Preis von einem.</td>\n      <td>private</td>\n      <td>offer</td>\n      <td>1500.0</td>\n      <td>control</td>\n      <td>small car</td>\n      <td>1000</td>\n      <td>manual</td>\n      <td>0</td>\n      <td>kaefer</td>\n      <td>5000.0</td>\n      <td>0</td>\n      <td>petrol</td>\n      <td>volkswagen</td>\n      <td>no</td>\n      <td>2016-03-29</td>\n      <td>48324</td>\n      <td>2016-03-31 10:15:28</td>\n    </tr>\n    <tr>\n      <th>22659</th>\n      <td>2016-03-14</td>\n      <td>08:51:18</td>\n      <td>Opel Corsa B</td>\n      <td>private</td>\n      <td>offer</td>\n      <td>500.0</td>\n      <td>test</td>\n      <td>small car</td>\n      <td>1910</td>\n      <td>manual</td>\n      <td>0</td>\n      <td>corsa</td>\n      <td>150000.0</td>\n      <td>0</td>\n      <td>petrol</td>\n      <td>opel</td>\n      <td>no</td>\n      <td>2016-03-14</td>\n      <td>52393</td>\n      <td>2016-04-03 07:53:55</td>\n    </tr>\n    <tr>\n      <th>23804</th>\n      <td>2016-03-30</td>\n      <td>22:42:50</td>\n      <td>Mercedes Benz 170V</td>\n      <td>private</td>\n      <td>offer</td>\n      <td>4800.0</td>\n      <td>control</td>\n      <td>limousine</td>\n      <td>1937</td>\n      <td>manual</td>\n      <td>38</td>\n      <td>others</td>\n      <td>5000.0</td>\n      <td>0</td>\n      <td>petrol</td>\n      <td>mercedes_benz</td>\n      <td>no</td>\n      <td>2016-03-30</td>\n      <td>23936</td>\n      <td>2016-03-30 22:42:50</td>\n    </tr>\n    <tr>\n      <th>24511</th>\n      <td>2016-03-17</td>\n      <td>19:45:11</td>\n      <td>Trabant  wartburg  Ostalgie</td>\n      <td>private</td>\n      <td>offer</td>\n      <td>490.0</td>\n      <td>control</td>\n      <td>small car</td>\n      <td>1111</td>\n      <td>manual</td>\n      <td>0</td>\n      <td>others</td>\n      <td>5000.0</td>\n      <td>0</td>\n      <td>petrol</td>\n      <td>trabant</td>\n      <td>no</td>\n      <td>2016-03-17</td>\n      <td>16818</td>\n      <td>2016-04-07 07:17:29</td>\n    </tr>\n    <tr>\n      <th>24855</th>\n      <td>2016-03-31</td>\n      <td>13:57:18</td>\n      <td>Andere DKW F8 Cabrio Limosine</td>\n      <td>private</td>\n      <td>offer</td>\n      <td>26600.0</td>\n      <td>control</td>\n      <td>convertible</td>\n      <td>1939</td>\n      <td>manual</td>\n      <td>0</td>\n      <td>others</td>\n      <td>5000.0</td>\n      <td>7</td>\n      <td>petrol</td>\n      <td>sonstige_autos</td>\n      <td>yes</td>\n      <td>2016-03-31</td>\n      <td>55278</td>\n      <td>2016-04-06 07:15:57</td>\n    </tr>\n    <tr>\n      <th>25792</th>\n      <td>2016-03-09</td>\n      <td>10:54:11</td>\n      <td>Andere GAZ Oldtimergelaendewagen 1941</td>\n      <td>private</td>\n      <td>offer</td>\n      <td>9500.0</td>\n      <td>control</td>\n      <td>suv</td>\n      <td>1941</td>\n      <td>manual</td>\n      <td>57</td>\n      <td>others</td>\n      <td>40000.0</td>\n      <td>1</td>\n      <td>petrol</td>\n      <td>sonstige_autos</td>\n      <td>no</td>\n      <td>2016-03-09</td>\n      <td>59557</td>\n      <td>2016-03-12 21:16:29</td>\n    </tr>\n    <tr>\n      <th>26103</th>\n      <td>2016-03-16</td>\n      <td>12:37:38</td>\n      <td>Oldtimer Sport   Cabrio Georges Irat</td>\n      <td>private</td>\n      <td>offer</td>\n      <td>8500.0</td>\n      <td>test</td>\n      <td>convertible</td>\n      <td>1938</td>\n      <td>manual</td>\n      <td>0</td>\n      <td>others</td>\n      <td>5000.0</td>\n      <td>6</td>\n      <td>petrol</td>\n      <td>sonstige_autos</td>\n      <td>yes</td>\n      <td>2016-03-16</td>\n      <td>61118</td>\n      <td>2016-03-16 19:43:33</td>\n    </tr>\n    <tr>\n      <th>26607</th>\n      <td>2016-03-21</td>\n      <td>14:45:26</td>\n      <td>MG Andere</td>\n      <td>private</td>\n      <td>offer</td>\n      <td>25500.0</td>\n      <td>control</td>\n      <td>convertible</td>\n      <td>1937</td>\n      <td>manual</td>\n      <td>50</td>\n      <td>others</td>\n      <td>50000.0</td>\n      <td>5</td>\n      <td>petrol</td>\n      <td>sonstige_autos</td>\n      <td>no</td>\n      <td>2016-03-21</td>\n      <td>53804</td>\n      <td>2016-04-06 11:17:17</td>\n    </tr>\n    <tr>\n      <th>28693</th>\n      <td>2016-03-22</td>\n      <td>17:48:41</td>\n      <td>Renault Twingo</td>\n      <td>private</td>\n      <td>offer</td>\n      <td>599.0</td>\n      <td>control</td>\n      <td>small car</td>\n      <td>1910</td>\n      <td>manual</td>\n      <td>0</td>\n      <td>others</td>\n      <td>5000.0</td>\n      <td>0</td>\n      <td>petrol</td>\n      <td>renault</td>\n      <td>no</td>\n      <td>2016-03-22</td>\n      <td>70376</td>\n      <td>2016-04-06 09:16:59</td>\n    </tr>\n    <tr>\n      <th>32585</th>\n      <td>2016-04-02</td>\n      <td>16:56:39</td>\n      <td>UNFAL Auto</td>\n      <td>private</td>\n      <td>offer</td>\n      <td>450.0</td>\n      <td>control</td>\n      <td>small car</td>\n      <td>1800</td>\n      <td>manual</td>\n      <td>1800</td>\n      <td>others</td>\n      <td>5000.0</td>\n      <td>2</td>\n      <td>petrol</td>\n      <td>mitsubishi</td>\n      <td>no</td>\n      <td>2016-04-02</td>\n      <td>63322</td>\n      <td>2016-04-04 14:46:21</td>\n    </tr>\n    <tr>\n      <th>39725</th>\n      <td>2016-03-25</td>\n      <td>22:54:31</td>\n      <td>Dodge 1937 Hotrod Flathead Scheunenfund Oldtim...</td>\n      <td>private</td>\n      <td>offer</td>\n      <td>8990.0</td>\n      <td>control</td>\n      <td>limousine</td>\n      <td>1937</td>\n      <td>manual</td>\n      <td>0</td>\n      <td>others</td>\n      <td>150000.0</td>\n      <td>7</td>\n      <td>petrol</td>\n      <td>sonstige_autos</td>\n      <td>no</td>\n      <td>2016-03-25</td>\n      <td>3042</td>\n      <td>2016-04-05 15:47:14</td>\n    </tr>\n    <tr>\n      <th>46213</th>\n      <td>2016-04-02</td>\n      <td>13:47:16</td>\n      <td>Bellier Vario</td>\n      <td>private</td>\n      <td>offer</td>\n      <td>0.0</td>\n      <td>test</td>\n      <td>small car</td>\n      <td>1910</td>\n      <td>manual</td>\n      <td>0</td>\n      <td>others</td>\n      <td>5000.0</td>\n      <td>1</td>\n      <td>others</td>\n      <td>sonstige_autos</td>\n      <td>no</td>\n      <td>2016-04-02</td>\n      <td>93105</td>\n      <td>2016-04-04 11:16:30</td>\n    </tr>\n    <tr>\n      <th>49283</th>\n      <td>2016-03-15</td>\n      <td>18:38:53</td>\n      <td>Citroen HY</td>\n      <td>private</td>\n      <td>offer</td>\n      <td>7750.0</td>\n      <td>control</td>\n      <td>small car</td>\n      <td>1001</td>\n      <td>manual</td>\n      <td>0</td>\n      <td>others</td>\n      <td>5000.0</td>\n      <td>0</td>\n      <td>petrol</td>\n      <td>citroen</td>\n      <td>no</td>\n      <td>2016-03-15</td>\n      <td>66706</td>\n      <td>2016-04-06 18:47:20</td>\n    </tr>\n  </tbody>\n</table>\n</div>"
     },
     "execution_count": 50,
     "metadata": {},
     "output_type": "execute_result"
    }
   ],
   "source": [
    "df.loc[df.registration_year < 1950]"
   ],
   "metadata": {
    "collapsed": false,
    "ExecuteTime": {
     "end_time": "2023-10-27T10:35:01.681444Z",
     "start_time": "2023-10-27T10:35:01.539134Z"
    }
   },
   "id": "6e6efd7f3b691fb5"
  },
  {
   "cell_type": "code",
   "execution_count": 51,
   "outputs": [],
   "source": [
    "df.loc[df.registration_year < 1950, 'registration_year'] = 1950"
   ],
   "metadata": {
    "collapsed": false,
    "ExecuteTime": {
     "end_time": "2023-10-27T10:36:05.738081Z",
     "start_time": "2023-10-27T10:36:05.703395Z"
    }
   },
   "id": "65214cb780d5ce4e"
  },
  {
   "cell_type": "code",
   "execution_count": 52,
   "outputs": [
    {
     "data": {
      "text/plain": "Empty DataFrame\nColumns: [date_crawled, time_crawled, name, seller, offer_type, price_usd, abtest, vehicle_type, registration_year, gearbox, power_ps, model, odometer_km, registration_month, fuel_type, brand, unrepaired_damage, date_created, postal_code, last_seen]\nIndex: []",
      "text/html": "<div>\n<style scoped>\n    .dataframe tbody tr th:only-of-type {\n        vertical-align: middle;\n    }\n\n    .dataframe tbody tr th {\n        vertical-align: top;\n    }\n\n    .dataframe thead th {\n        text-align: right;\n    }\n</style>\n<table border=\"1\" class=\"dataframe\">\n  <thead>\n    <tr style=\"text-align: right;\">\n      <th></th>\n      <th>date_crawled</th>\n      <th>time_crawled</th>\n      <th>name</th>\n      <th>seller</th>\n      <th>offer_type</th>\n      <th>price_usd</th>\n      <th>abtest</th>\n      <th>vehicle_type</th>\n      <th>registration_year</th>\n      <th>gearbox</th>\n      <th>power_ps</th>\n      <th>model</th>\n      <th>odometer_km</th>\n      <th>registration_month</th>\n      <th>fuel_type</th>\n      <th>brand</th>\n      <th>unrepaired_damage</th>\n      <th>date_created</th>\n      <th>postal_code</th>\n      <th>last_seen</th>\n    </tr>\n  </thead>\n  <tbody>\n  </tbody>\n</table>\n</div>"
     },
     "execution_count": 52,
     "metadata": {},
     "output_type": "execute_result"
    }
   ],
   "source": [
    "df.loc[df.registration_year < 1950]"
   ],
   "metadata": {
    "collapsed": false,
    "ExecuteTime": {
     "end_time": "2023-10-27T10:36:07.500019Z",
     "start_time": "2023-10-27T10:36:07.273052Z"
    }
   },
   "id": "a4744a4ad49afc6d"
  },
  {
   "cell_type": "markdown",
   "source": [
    "### Exploratory Data Analysis"
   ],
   "metadata": {
    "collapsed": false
   },
   "id": "dfed5af99be3c234"
  },
  {
   "cell_type": "code",
   "execution_count": 54,
   "outputs": [
    {
     "data": {
      "text/plain": "       time_crawled         name   seller offer_type abtest vehicle_type  \\\ncount         49289        49289    49289      49289  49289        49289   \nunique        20570        38109        2          2      2            8   \ntop        20:36:19  Ford Fiesta  private      offer   test    small car   \nfreq             14           78    49288      49288  25381        15206   \n\n       gearbox   model fuel_type       brand unrepaired_damage postal_code  \ncount    49289   49289     49289       49289             49289       49289  \nunique       2     245         7          40                 2        6999  \ntop     manual  others    petrol  volkswagen                no       10115  \nfreq     39016    6014     33948       10509             44426         109  ",
      "text/html": "<div>\n<style scoped>\n    .dataframe tbody tr th:only-of-type {\n        vertical-align: middle;\n    }\n\n    .dataframe tbody tr th {\n        vertical-align: top;\n    }\n\n    .dataframe thead th {\n        text-align: right;\n    }\n</style>\n<table border=\"1\" class=\"dataframe\">\n  <thead>\n    <tr style=\"text-align: right;\">\n      <th></th>\n      <th>time_crawled</th>\n      <th>name</th>\n      <th>seller</th>\n      <th>offer_type</th>\n      <th>abtest</th>\n      <th>vehicle_type</th>\n      <th>gearbox</th>\n      <th>model</th>\n      <th>fuel_type</th>\n      <th>brand</th>\n      <th>unrepaired_damage</th>\n      <th>postal_code</th>\n    </tr>\n  </thead>\n  <tbody>\n    <tr>\n      <th>count</th>\n      <td>49289</td>\n      <td>49289</td>\n      <td>49289</td>\n      <td>49289</td>\n      <td>49289</td>\n      <td>49289</td>\n      <td>49289</td>\n      <td>49289</td>\n      <td>49289</td>\n      <td>49289</td>\n      <td>49289</td>\n      <td>49289</td>\n    </tr>\n    <tr>\n      <th>unique</th>\n      <td>20570</td>\n      <td>38109</td>\n      <td>2</td>\n      <td>2</td>\n      <td>2</td>\n      <td>8</td>\n      <td>2</td>\n      <td>245</td>\n      <td>7</td>\n      <td>40</td>\n      <td>2</td>\n      <td>6999</td>\n    </tr>\n    <tr>\n      <th>top</th>\n      <td>20:36:19</td>\n      <td>Ford Fiesta</td>\n      <td>private</td>\n      <td>offer</td>\n      <td>test</td>\n      <td>small car</td>\n      <td>manual</td>\n      <td>others</td>\n      <td>petrol</td>\n      <td>volkswagen</td>\n      <td>no</td>\n      <td>10115</td>\n    </tr>\n    <tr>\n      <th>freq</th>\n      <td>14</td>\n      <td>78</td>\n      <td>49288</td>\n      <td>49288</td>\n      <td>25381</td>\n      <td>15206</td>\n      <td>39016</td>\n      <td>6014</td>\n      <td>33948</td>\n      <td>10509</td>\n      <td>44426</td>\n      <td>109</td>\n    </tr>\n  </tbody>\n</table>\n</div>"
     },
     "execution_count": 54,
     "metadata": {},
     "output_type": "execute_result"
    }
   ],
   "source": [
    "df.describe(include='object')"
   ],
   "metadata": {
    "collapsed": false,
    "ExecuteTime": {
     "end_time": "2023-10-27T10:36:38.601301Z",
     "start_time": "2023-10-27T10:36:38.312823Z"
    }
   },
   "id": "55ce31c4ed73d70f"
  },
  {
   "cell_type": "code",
   "execution_count": 56,
   "outputs": [
    {
     "data": {
      "text/plain": "          price_usd  registration_year      power_ps    odometer_km  \\\ncount  4.928900e+04       49289.000000  49289.000000   49289.000000   \nmean   9.981811e+03        2003.329465    117.187608  126029.134290   \nstd    4.845606e+05           7.435167    199.353677   39561.876425   \nmin    0.000000e+00        1950.000000      0.000000    5000.000000   \n25%    1.200000e+03        1999.000000     72.000000  125000.000000   \n50%    2.999000e+03        2003.000000    107.000000  150000.000000   \n75%    7.300000e+03        2008.000000    150.000000  150000.000000   \nmax    1.000000e+08        2016.000000  17700.000000  150000.000000   \n\n       registration_month  \ncount        49289.000000  \nmean             5.777577  \nstd              3.687663  \nmin              0.000000  \n25%              3.000000  \n50%              6.000000  \n75%              9.000000  \nmax             12.000000  ",
      "text/html": "<div>\n<style scoped>\n    .dataframe tbody tr th:only-of-type {\n        vertical-align: middle;\n    }\n\n    .dataframe tbody tr th {\n        vertical-align: top;\n    }\n\n    .dataframe thead th {\n        text-align: right;\n    }\n</style>\n<table border=\"1\" class=\"dataframe\">\n  <thead>\n    <tr style=\"text-align: right;\">\n      <th></th>\n      <th>price_usd</th>\n      <th>registration_year</th>\n      <th>power_ps</th>\n      <th>odometer_km</th>\n      <th>registration_month</th>\n    </tr>\n  </thead>\n  <tbody>\n    <tr>\n      <th>count</th>\n      <td>4.928900e+04</td>\n      <td>49289.000000</td>\n      <td>49289.000000</td>\n      <td>49289.000000</td>\n      <td>49289.000000</td>\n    </tr>\n    <tr>\n      <th>mean</th>\n      <td>9.981811e+03</td>\n      <td>2003.329465</td>\n      <td>117.187608</td>\n      <td>126029.134290</td>\n      <td>5.777577</td>\n    </tr>\n    <tr>\n      <th>std</th>\n      <td>4.845606e+05</td>\n      <td>7.435167</td>\n      <td>199.353677</td>\n      <td>39561.876425</td>\n      <td>3.687663</td>\n    </tr>\n    <tr>\n      <th>min</th>\n      <td>0.000000e+00</td>\n      <td>1950.000000</td>\n      <td>0.000000</td>\n      <td>5000.000000</td>\n      <td>0.000000</td>\n    </tr>\n    <tr>\n      <th>25%</th>\n      <td>1.200000e+03</td>\n      <td>1999.000000</td>\n      <td>72.000000</td>\n      <td>125000.000000</td>\n      <td>3.000000</td>\n    </tr>\n    <tr>\n      <th>50%</th>\n      <td>2.999000e+03</td>\n      <td>2003.000000</td>\n      <td>107.000000</td>\n      <td>150000.000000</td>\n      <td>6.000000</td>\n    </tr>\n    <tr>\n      <th>75%</th>\n      <td>7.300000e+03</td>\n      <td>2008.000000</td>\n      <td>150.000000</td>\n      <td>150000.000000</td>\n      <td>9.000000</td>\n    </tr>\n    <tr>\n      <th>max</th>\n      <td>1.000000e+08</td>\n      <td>2016.000000</td>\n      <td>17700.000000</td>\n      <td>150000.000000</td>\n      <td>12.000000</td>\n    </tr>\n  </tbody>\n</table>\n</div>"
     },
     "execution_count": 56,
     "metadata": {},
     "output_type": "execute_result"
    }
   ],
   "source": [
    "df.describe()"
   ],
   "metadata": {
    "collapsed": false,
    "ExecuteTime": {
     "end_time": "2023-10-27T10:39:49.406591Z",
     "start_time": "2023-10-27T10:39:49.279350Z"
    }
   },
   "id": "2f8c2908493f2861"
  },
  {
   "cell_type": "markdown",
   "source": [
    "**Exploring Price by Brand**"
   ],
   "metadata": {
    "collapsed": false
   },
   "id": "e80a33ecb6404ebd"
  },
  {
   "cell_type": "code",
   "execution_count": null,
   "outputs": [],
   "source": [],
   "metadata": {
    "collapsed": false,
    "ExecuteTime": {
     "start_time": "2023-10-27T09:16:37.859392Z"
    }
   },
   "id": "92acafefe864cff3"
  },
  {
   "cell_type": "markdown",
   "source": [
    "**Average price for Top 10 Brands**"
   ],
   "metadata": {
    "collapsed": false
   },
   "id": "a4150446398adc76"
  },
  {
   "cell_type": "code",
   "execution_count": null,
   "outputs": [],
   "source": [],
   "metadata": {
    "collapsed": false,
    "ExecuteTime": {
     "start_time": "2023-10-27T09:16:37.862027Z"
    }
   },
   "id": "a7a67b76f9ea05a3"
  },
  {
   "cell_type": "markdown",
   "source": [
    "**Average mileage for Top 10 Brands**"
   ],
   "metadata": {
    "collapsed": false
   },
   "id": "3ea8243dda682057"
  },
  {
   "cell_type": "code",
   "execution_count": null,
   "outputs": [],
   "source": [],
   "metadata": {
    "collapsed": false,
    "ExecuteTime": {
     "start_time": "2023-10-27T09:16:37.864174Z"
    }
   },
   "id": "b00de1ab612a119d"
  },
  {
   "cell_type": "markdown",
   "source": [
    "**Review `name` column**\n",
    "\n",
    "See if there are particular keywords in the `name` column that can be extracted as new columns"
   ],
   "metadata": {
    "collapsed": false
   },
   "id": "ca6abecd5658e94c"
  },
  {
   "cell_type": "code",
   "execution_count": null,
   "outputs": [],
   "source": [],
   "metadata": {
    "collapsed": false,
    "ExecuteTime": {
     "start_time": "2023-10-27T09:16:37.865783Z"
    }
   },
   "id": "a7793986dde6bca1"
  },
  {
   "cell_type": "markdown",
   "source": [
    "**Most common brand/model combinations**"
   ],
   "metadata": {
    "collapsed": false
   },
   "id": "7b819d26287fb33f"
  },
  {
   "cell_type": "code",
   "execution_count": null,
   "outputs": [],
   "source": [],
   "metadata": {
    "collapsed": false,
    "ExecuteTime": {
     "start_time": "2023-10-27T09:16:37.867311Z"
    }
   },
   "id": "1d35c72a057f0af"
  },
  {
   "cell_type": "markdown",
   "source": [
    "**Find Patterns in Odometer Columns**\n",
    "\n",
    "Split the `odometer_km` into groups, and use aggregation to see if average prices follow any patterns based on the mileage."
   ],
   "metadata": {
    "collapsed": false
   },
   "id": "d23cf5e82ffcdb3e"
  },
  {
   "cell_type": "code",
   "execution_count": null,
   "outputs": [],
   "source": [],
   "metadata": {
    "collapsed": false,
    "ExecuteTime": {
     "start_time": "2023-10-27T09:16:37.869644Z"
    }
   },
   "id": "46dde061c5311790"
  },
  {
   "cell_type": "markdown",
   "source": [
    "**Determine Relationship between Price and Un-repaired Damage**\n",
    "\n",
    "How much cheaper are cars with damage than their non-damaged counterparts?"
   ],
   "metadata": {
    "collapsed": false
   },
   "id": "945ea9ff521e540b"
  },
  {
   "cell_type": "code",
   "execution_count": null,
   "outputs": [],
   "source": [],
   "metadata": {
    "collapsed": false,
    "ExecuteTime": {
     "start_time": "2023-10-27T09:16:37.871332Z"
    }
   },
   "id": "8346fac7407557f3"
  }
 ],
 "metadata": {
  "kernelspec": {
   "display_name": "Python 3",
   "language": "python",
   "name": "python3"
  },
  "language_info": {
   "codemirror_mode": {
    "name": "ipython",
    "version": 2
   },
   "file_extension": ".py",
   "mimetype": "text/x-python",
   "name": "python",
   "nbconvert_exporter": "python",
   "pygments_lexer": "ipython2",
   "version": "2.7.6"
  }
 },
 "nbformat": 4,
 "nbformat_minor": 5
}
